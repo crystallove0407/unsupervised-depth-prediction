{
 "cells": [
  {
   "cell_type": "code",
   "execution_count": 1,
   "metadata": {},
   "outputs": [],
   "source": [
    "import os"
   ]
  },
  {
   "cell_type": "markdown",
   "metadata": {},
   "source": [
    "## 1. 選擇使用的GPU "
   ]
  },
  {
   "cell_type": "code",
   "execution_count": 2,
   "metadata": {},
   "outputs": [],
   "source": [
    "# manually select one or several free gpu\n",
    "os.environ['CUDA_VISIBLE_DEVICES'] = '0, 1'\n",
    "# use CPU only\n",
    "# os.environ['CUDA_VISIBLE_DEVICES'] = '-1'"
   ]
  },
  {
   "cell_type": "markdown",
   "metadata": {},
   "source": [
    "## 2. 到當前資料夾\n",
    "- cd C:/Users/Garin/Desktop/學長畢業資料/實驗程式yu/\n",
    "\n",
    "## 3. 同步程式\n",
    "### - local -> server\n",
    "- scp -r -P 2222 ./config garin@140.113.214.40:/home/garin/Documents/depth/\n",
    "- scp -r -P 2222 ./src garin@140.113.214.40:/home/garin/Documents/depth/\n",
    "\n",
    "### - server -> local \n",
    "- scp -r -P 2222 garin@140.113.214.40:/home/garin/Documents/depth/config .\n",
    "- scp -r -P 2222 garin@140.113.214.40:/home/garin/Documents/depth/src ."
   ]
  },
  {
   "cell_type": "markdown",
   "metadata": {},
   "source": [
    "## 4. 建dataset"
   ]
  },
  {
   "cell_type": "code",
   "execution_count": null,
   "metadata": {},
   "outputs": [],
   "source": [
    "%run data_preparation/kitti_data_prepare.py \\\n",
    "--dataset_dir=/work/garin0115/datasets/KITTI/ \\\n",
    "--dataset_name=kitti_raw_eigen \\\n",
    "--dump_root=/home/garin0115/datasets/kitti_3frames_256_832/ \\\n",
    "--seq_length=3 \\\n",
    "--img_height=256 \\\n",
    "--img_width=832 \\\n",
    "--num_threads=32 \\\n",
    "--remove_static"
   ]
  },
  {
   "cell_type": "markdown",
   "metadata": {},
   "source": [
    "## 5. Train flow "
   ]
  },
  {
   "cell_type": "code",
   "execution_count": null,
   "metadata": {},
   "outputs": [],
   "source": [
    "%run ./main.py -c ../config/flow3.ini -t train_flow --cont_model=../results/KITTI_RAW_128_416_UnDepthflow_flow_pwc_b8_3frames/checkpoints/kitti_3frames/model-170987"
   ]
  },
  {
   "cell_type": "markdown",
   "metadata": {},
   "source": [
    "## 6. Train depth & pose "
   ]
  },
  {
   "cell_type": "code",
   "execution_count": null,
   "metadata": {},
   "outputs": [
    {
     "name": "stderr",
     "output_type": "stream",
     "text": [
      "WARNING: Logging before flag parsing goes to stderr.\n",
      "W1125 02:27:44.698558 140257328711488 deprecation_wrapper.py:119] From /home/garin0115/depth/unsupervised-depth-prediction/src/main.py:113: The name tf.app.run is deprecated. Please use tf.compat.v1.app.run instead.\n",
      "\n",
      "W1125 02:27:44.701844 140257328711488 deprecation_wrapper.py:119] From /home/garin0115/depth/unsupervised-depth-prediction/src/model/undpflow_model.py:80: The name tf.set_random_seed is deprecated. Please use tf.compat.v1.set_random_seed instead.\n",
      "\n",
      "W1125 02:27:44.706119 140257328711488 deprecation_wrapper.py:119] From /home/garin0115/depth/unsupervised-depth-prediction/src/model/undpflow_model.py:89: The name tf.train.exponential_decay is deprecated. Please use tf.compat.v1.train.exponential_decay instead.\n",
      "\n",
      "W1125 02:27:44.710697 140257328711488 deprecation_wrapper.py:119] From /home/garin0115/depth/unsupervised-depth-prediction/src/model/undpflow_model.py:90: The name tf.train.AdamOptimizer is deprecated. Please use tf.compat.v1.train.AdamOptimizer instead.\n",
      "\n",
      "W1125 02:27:44.832806 140257328711488 deprecation.py:323] From /home/garin0115/depth/unsupervised-depth-prediction/src/data_loader/data_loader.py:51: string_input_producer (from tensorflow.python.training.input) is deprecated and will be removed in a future version.\n",
      "Instructions for updating:\n",
      "Queue-based input pipelines have been replaced by `tf.data`. Use `tf.data.Dataset.from_tensor_slices(string_tensor).shuffle(tf.shape(input_tensor, out_type=tf.int64)[0]).repeat(num_epochs)`. If `shuffle=False`, omit the `.shuffle(...)`.\n",
      "W1125 02:27:44.975805 140257328711488 deprecation.py:323] From /usr/local/lib/python3.6/dist-packages/tensorflow/python/training/input.py:278: input_producer (from tensorflow.python.training.input) is deprecated and will be removed in a future version.\n",
      "Instructions for updating:\n",
      "Queue-based input pipelines have been replaced by `tf.data`. Use `tf.data.Dataset.from_tensor_slices(input_tensor).shuffle(tf.shape(input_tensor, out_type=tf.int64)[0]).repeat(num_epochs)`. If `shuffle=False`, omit the `.shuffle(...)`.\n",
      "W1125 02:27:44.977879 140257328711488 deprecation.py:323] From /usr/local/lib/python3.6/dist-packages/tensorflow/python/training/input.py:190: limit_epochs (from tensorflow.python.training.input) is deprecated and will be removed in a future version.\n",
      "Instructions for updating:\n",
      "Queue-based input pipelines have been replaced by `tf.data`. Use `tf.data.Dataset.from_tensors(tensor).repeat(num_epochs)`.\n",
      "W1125 02:27:44.980084 140257328711488 deprecation.py:323] From /usr/local/lib/python3.6/dist-packages/tensorflow/python/training/input.py:199: QueueRunner.__init__ (from tensorflow.python.training.queue_runner_impl) is deprecated and will be removed in a future version.\n",
      "Instructions for updating:\n",
      "To construct input pipelines, use the `tf.data` module.\n",
      "W1125 02:27:44.981841 140257328711488 deprecation.py:323] From /usr/local/lib/python3.6/dist-packages/tensorflow/python/training/input.py:199: add_queue_runner (from tensorflow.python.training.queue_runner_impl) is deprecated and will be removed in a future version.\n",
      "Instructions for updating:\n",
      "To construct input pipelines, use the `tf.data` module.\n",
      "W1125 02:27:45.128020 140257328711488 deprecation.py:323] From /home/garin0115/depth/unsupervised-depth-prediction/src/data_loader/data_loader.py:58: WholeFileReader.__init__ (from tensorflow.python.ops.io_ops) is deprecated and will be removed in a future version.\n",
      "Instructions for updating:\n",
      "Queue-based input pipelines have been replaced by `tf.data`. Use `tf.data.Dataset.map(tf.read_file)`.\n",
      "W1125 02:27:45.131122 140257328711488 deprecation.py:323] From /home/garin0115/depth/unsupervised-depth-prediction/src/data_loader/data_loader.py:85: TextLineReader.__init__ (from tensorflow.python.ops.io_ops) is deprecated and will be removed in a future version.\n",
      "Instructions for updating:\n",
      "Queue-based input pipelines have been replaced by `tf.data`. Use `tf.data.TextLineDataset`.\n",
      "W1125 02:27:45.133301 140257328711488 deprecation_wrapper.py:119] From /home/garin0115/depth/unsupervised-depth-prediction/src/data_loader/data_loader.py:90: The name tf.decode_csv is deprecated. Please use tf.io.decode_csv instead.\n",
      "\n",
      "W1125 02:27:45.141120 140257328711488 deprecation_wrapper.py:119] From /home/garin0115/depth/unsupervised-depth-prediction/src/data_loader/data_loader.py:317: The name tf.random_uniform is deprecated. Please use tf.random.uniform instead.\n",
      "\n",
      "W1125 02:27:45.228549 140257328711488 deprecation_wrapper.py:119] From /home/garin0115/depth/unsupervised-depth-prediction/src/data_loader/data_loader.py:387: The name tf.image.resize_area is deprecated. Please use tf.compat.v1.image.resize_area instead.\n",
      "\n",
      "W1125 02:27:45.353294 140257328711488 deprecation_wrapper.py:119] From /home/garin0115/depth/unsupervised-depth-prediction/src/data_loader/data_loader.py:117: The name tf.matrix_inverse is deprecated. Please use tf.linalg.inv instead.\n",
      "\n",
      "I1125 02:27:45.355232 140257328711488 data_loader.py:133] [Info] Shuffling the batch\n",
      "W1125 02:27:45.355994 140257328711488 deprecation.py:323] From /home/garin0115/depth/unsupervised-depth-prediction/src/data_loader/data_loader.py:139: shuffle_batch (from tensorflow.python.training.input) is deprecated and will be removed in a future version.\n",
      "Instructions for updating:\n",
      "Queue-based input pipelines have been replaced by `tf.data`. Use `tf.data.Dataset.shuffle(min_after_dequeue).batch(batch_size)`.\n",
      "W1125 02:27:45.387330 140257328711488 deprecation_wrapper.py:119] From /home/garin0115/depth/unsupervised-depth-prediction/src/model/undpflow_model.py:173: The name tf.get_collection is deprecated. Please use tf.compat.v1.get_collection instead.\n",
      "\n"
     ]
    },
    {
     "name": "stdout",
     "output_type": "stream",
     "text": [
      "[!] Loading the model for 3 frames...\n",
      "[Info] Building depth and pose network ...\n",
      "[Info] img_height: 256 img_width 832\n",
      "[Downsample] out, out_channel: 24 116\n",
      "[Rest] out, out_channel: 116 116\n",
      "[Rest] out, out_channel: 116 116\n",
      "[Rest] out, out_channel: 116 116\n",
      "[Downsample] out, out_channel: 116 232\n",
      "[Rest] out, out_channel: 232 232\n",
      "[Rest] out, out_channel: 232 232\n",
      "[Rest] out, out_channel: 232 232\n",
      "[Rest] out, out_channel: 232 232\n",
      "[Rest] out, out_channel: 232 232\n",
      "[Rest] out, out_channel: 232 232\n",
      "[Rest] out, out_channel: 232 232\n",
      "[Downsample] out, out_channel: 232 464\n",
      "[Rest] out, out_channel: 464 464\n",
      "[Rest] out, out_channel: 464 464\n",
      "[Rest] out, out_channel: 464 464\n"
     ]
    },
    {
     "name": "stderr",
     "output_type": "stream",
     "text": [
      "W1125 02:27:47.841791 140257328711488 deprecation_wrapper.py:119] From /home/garin0115/depth/unsupervised-depth-prediction/src/nets/depth_net.py:197: The name tf.image.resize_nearest_neighbor is deprecated. Please use tf.compat.v1.image.resize_nearest_neighbor instead.\n",
      "\n"
     ]
    },
    {
     "name": "stdout",
     "output_type": "stream",
     "text": [
      "skip[0]: (4, 128, 416, 24)\n",
      "skip[1]: (4, 64, 208, 24)\n",
      "skip[2]: (4, 32, 104, 116)\n",
      "skip[3]: (4, 16, 52, 232)\n",
      "skip[4]: (4, 8, 26, 464)\n",
      "[Downsample] out, out_channel: 24 116\n",
      "[Rest] out, out_channel: 116 116\n",
      "[Rest] out, out_channel: 116 116\n",
      "[Rest] out, out_channel: 116 116\n",
      "[Downsample] out, out_channel: 116 232\n",
      "[Rest] out, out_channel: 232 232\n",
      "[Rest] out, out_channel: 232 232\n",
      "[Rest] out, out_channel: 232 232\n",
      "[Rest] out, out_channel: 232 232\n",
      "[Rest] out, out_channel: 232 232\n",
      "[Rest] out, out_channel: 232 232\n",
      "[Rest] out, out_channel: 232 232\n",
      "[Downsample] out, out_channel: 232 464\n",
      "[Rest] out, out_channel: 464 464\n",
      "[Rest] out, out_channel: 464 464\n",
      "[Rest] out, out_channel: 464 464\n"
     ]
    },
    {
     "name": "stderr",
     "output_type": "stream",
     "text": [
      "W1125 02:27:49.904514 140257328711488 deprecation_wrapper.py:119] From /home/garin0115/depth/unsupervised-depth-prediction/src/model/model_3frames.py:125: The name tf.image.resize_bilinear is deprecated. Please use tf.compat.v1.image.resize_bilinear instead.\n",
      "\n"
     ]
    },
    {
     "name": "stdout",
     "output_type": "stream",
     "text": [
      "skip[0]: (4, 128, 416, 24)\n",
      "skip[1]: (4, 64, 208, 24)\n",
      "skip[2]: (4, 32, 104, 116)\n",
      "skip[3]: (4, 16, 52, 232)\n",
      "skip[4]: (4, 8, 26, 464)\n",
      "[Downsample] out, out_channel: 24 116\n",
      "[Rest] out, out_channel: 116 116\n",
      "[Rest] out, out_channel: 116 116\n",
      "[Rest] out, out_channel: 116 116\n",
      "[Downsample] out, out_channel: 116 232\n",
      "[Rest] out, out_channel: 232 232\n",
      "[Rest] out, out_channel: 232 232\n",
      "[Rest] out, out_channel: 232 232\n",
      "[Rest] out, out_channel: 232 232\n",
      "[Rest] out, out_channel: 232 232\n",
      "[Rest] out, out_channel: 232 232\n",
      "[Rest] out, out_channel: 232 232\n",
      "[Downsample] out, out_channel: 232 464\n",
      "[Rest] out, out_channel: 464 464\n",
      "[Rest] out, out_channel: 464 464\n",
      "[Rest] out, out_channel: 464 464\n",
      "skip[0]: (4, 128, 416, 24)\n",
      "skip[1]: (4, 64, 208, 24)\n",
      "skip[2]: (4, 32, 104, 116)\n",
      "skip[3]: (4, 16, 52, 232)\n",
      "skip[4]: (4, 8, 26, 464)\n",
      "[Info] Joint encoder\n",
      "[Info] Flow net decoder input:  (4, 8, 26, 1392)\n"
     ]
    },
    {
     "name": "stderr",
     "output_type": "stream",
     "text": [
      "W1125 02:28:05.534156 140257328711488 deprecation.py:323] From /home/garin0115/depth/unsupervised-depth-prediction/src/utils/optical_flow_warp_fwd.py:116: add_dispatch_support.<locals>.wrapper (from tensorflow.python.ops.array_ops) is deprecated and will be removed in a future version.\n",
      "Instructions for updating:\n",
      "Use tf.where in 2.0, which has the same broadcast rule as np.where\n",
      "W1125 02:28:15.636806 140257328711488 deprecation_wrapper.py:119] From /home/garin0115/depth/unsupervised-depth-prediction/src/model/model_3frames.py:601: The name tf.summary.scalar is deprecated. Please use tf.compat.v1.summary.scalar instead.\n",
      "\n",
      "W1125 02:28:15.644717 140257328711488 deprecation_wrapper.py:119] From /home/garin0115/depth/unsupervised-depth-prediction/src/model/model_3frames.py:609: The name tf.summary.image is deprecated. Please use tf.compat.v1.summary.image instead.\n",
      "\n",
      "W1125 02:28:15.665257 140257328711488 deprecation.py:323] From ./kitti_eval/flow_tool/flowlib.py:137: to_float (from tensorflow.python.ops.math_ops) is deprecated and will be removed in a future version.\n",
      "Instructions for updating:\n",
      "Use `tf.cast` instead.\n",
      "W1125 02:28:15.784503 140257328711488 deprecation_wrapper.py:119] From /home/garin0115/depth/unsupervised-depth-prediction/src/model/model_3frames.py:640: The name tf.summary.merge is deprecated. Please use tf.compat.v1.summary.merge instead.\n",
      "\n"
     ]
    },
    {
     "name": "stdout",
     "output_type": "stream",
     "text": [
      "[Info] Building depth and pose network ...\n",
      "[Info] img_height: 256 img_width 832\n",
      "[Downsample] out, out_channel: 24 116\n",
      "[Rest] out, out_channel: 116 116\n",
      "[Rest] out, out_channel: 116 116\n",
      "[Rest] out, out_channel: 116 116\n",
      "[Downsample] out, out_channel: 116 232\n",
      "[Rest] out, out_channel: 232 232\n",
      "[Rest] out, out_channel: 232 232\n",
      "[Rest] out, out_channel: 232 232\n",
      "[Rest] out, out_channel: 232 232\n",
      "[Rest] out, out_channel: 232 232\n",
      "[Rest] out, out_channel: 232 232\n",
      "[Rest] out, out_channel: 232 232\n",
      "[Downsample] out, out_channel: 232 464\n",
      "[Rest] out, out_channel: 464 464\n",
      "[Rest] out, out_channel: 464 464\n",
      "[Rest] out, out_channel: 464 464\n",
      "skip[0]: (4, 128, 416, 24)\n",
      "skip[1]: (4, 64, 208, 24)\n",
      "skip[2]: (4, 32, 104, 116)\n",
      "skip[3]: (4, 16, 52, 232)\n",
      "skip[4]: (4, 8, 26, 464)\n",
      "[Downsample] out, out_channel: 24 116\n",
      "[Rest] out, out_channel: 116 116\n",
      "[Rest] out, out_channel: 116 116\n",
      "[Rest] out, out_channel: 116 116\n",
      "[Downsample] out, out_channel: 116 232\n",
      "[Rest] out, out_channel: 232 232\n",
      "[Rest] out, out_channel: 232 232\n",
      "[Rest] out, out_channel: 232 232\n",
      "[Rest] out, out_channel: 232 232\n",
      "[Rest] out, out_channel: 232 232\n",
      "[Rest] out, out_channel: 232 232\n",
      "[Rest] out, out_channel: 232 232\n",
      "[Downsample] out, out_channel: 232 464\n",
      "[Rest] out, out_channel: 464 464\n",
      "[Rest] out, out_channel: 464 464\n",
      "[Rest] out, out_channel: 464 464\n",
      "skip[0]: (4, 128, 416, 24)\n",
      "skip[1]: (4, 64, 208, 24)\n",
      "skip[2]: (4, 32, 104, 116)\n",
      "skip[3]: (4, 16, 52, 232)\n",
      "skip[4]: (4, 8, 26, 464)\n",
      "[Downsample] out, out_channel: 24 116\n",
      "[Rest] out, out_channel: 116 116\n",
      "[Rest] out, out_channel: 116 116\n",
      "[Rest] out, out_channel: 116 116\n",
      "[Downsample] out, out_channel: 116 232\n",
      "[Rest] out, out_channel: 232 232\n",
      "[Rest] out, out_channel: 232 232\n",
      "[Rest] out, out_channel: 232 232\n",
      "[Rest] out, out_channel: 232 232\n",
      "[Rest] out, out_channel: 232 232\n",
      "[Rest] out, out_channel: 232 232\n",
      "[Rest] out, out_channel: 232 232\n",
      "[Downsample] out, out_channel: 232 464\n",
      "[Rest] out, out_channel: 464 464\n",
      "[Rest] out, out_channel: 464 464\n",
      "[Rest] out, out_channel: 464 464\n",
      "skip[0]: (4, 128, 416, 24)\n",
      "skip[1]: (4, 64, 208, 24)\n",
      "skip[2]: (4, 32, 104, 116)\n",
      "skip[3]: (4, 16, 52, 232)\n",
      "skip[4]: (4, 8, 26, 464)\n",
      "[Info] Joint encoder\n",
      "[Info] Flow net decoder input:  (4, 8, 26, 1392)\n"
     ]
    },
    {
     "name": "stderr",
     "output_type": "stream",
     "text": [
      "W1125 02:29:41.202173 140257328711488 deprecation_wrapper.py:119] From /home/garin0115/depth/unsupervised-depth-prediction/src/model/undpflow_model.py:270: The name tf.train.Saver is deprecated. Please use tf.compat.v1.train.Saver instead.\n",
      "\n",
      "W1125 02:29:44.519049 140257328711488 deprecation_wrapper.py:119] From /home/garin0115/depth/unsupervised-depth-prediction/src/model/undpflow_model.py:280: The name tf.summary.FileWriter is deprecated. Please use tf.compat.v1.summary.FileWriter instead.\n",
      "\n",
      "W1125 02:30:30.884603 140257328711488 deprecation.py:323] From /usr/local/lib/python3.6/dist-packages/tensorflow/python/training/saver.py:1276: checkpoint_exists (from tensorflow.python.training.checkpoint_management) is deprecated and will be removed in a future version.\n",
      "Instructions for updating:\n",
      "Use standard file APIs to check for files with this prefix.\n",
      "I1125 02:30:30.887680 140257328711488 saver.py:1280] Restoring parameters from ../results/KITTI_256_832_flow_b8_3frames/model-392302\n"
     ]
    },
    {
     "name": "stdout",
     "output_type": "stream",
     "text": [
      "[Info] Model size: 13.04033M\n",
      "[Info] Restoreing pretrained flow weights from: ../results/KITTI_256_832_flow_b8_3frames/model-392302\n"
     ]
    },
    {
     "name": "stderr",
     "output_type": "stream",
     "text": [
      "W1125 02:30:42.377362 140257328711488 deprecation.py:323] From /home/garin0115/depth/unsupervised-depth-prediction/src/model/undpflow_model.py:318: start_queue_runners (from tensorflow.python.training.queue_runner_impl) is deprecated and will be removed in a future version.\n",
      "Instructions for updating:\n",
      "To construct input pipelines, use the `tf.data` module.\n"
     ]
    },
    {
     "name": "stdout",
     "output_type": "stream",
     "text": [
      "Epoch: [ 0] [ 5025/ 5025] total steps:[     0] lr:[0.00010000] time: 1199.62s (1199s total) loss: nan\n",
      "[Info] Saving checkpoint to ../results/KITTI_256_832_dp_b8_ShuffleNetV2_separable_share/checkpoints ...\n"
     ]
    }
   ],
   "source": [
    "%run ./main.py -c ../config/dp3.ini -t train_dp \\\n",
    "--restore_flow_model=../results/KITTI_256_832_flow_b8_3frames/model-392302"
   ]
  },
  {
   "cell_type": "markdown",
   "metadata": {},
   "source": [
    "#### continue training depth and pose "
   ]
  },
  {
   "cell_type": "code",
   "execution_count": null,
   "metadata": {},
   "outputs": [],
   "source": [
    "%run ./main.py -c ../config/dp3.ini -t train_dp \\\n",
    "--cont_model=../results/KITTI_256_832_dp_b8_ShuffleNetV2_separable_share/checkpoints/kitti_3frames/model-15076 \\\n",
    "--restore_flow_model=../results/KITTI_256_832_flow_b8_3frames/model-392302"
   ]
  },
  {
   "cell_type": "markdown",
   "metadata": {},
   "source": [
    "## 7. Test"
   ]
  },
  {
   "cell_type": "code",
   "execution_count": null,
   "metadata": {},
   "outputs": [],
   "source": [
    "%run ./main.py -c ../config/test_dp_kitti.ini -t kitti_eval \\\n",
    "--restore_dp_model=../results/KITTI_256_832_dp_b8_ShuffleNetV2_separable_sep/checkpoints/kitti_3frames/model-35176\n",
    "# --restore_dp_model=../results/KITTI_RAW_128_416_UnDepthflow_dp_b4_resnet50_3frames/checkpoints/kitti_3frames/model-342007\n"
   ]
  },
  {
   "cell_type": "code",
   "execution_count": null,
   "metadata": {},
   "outputs": [],
   "source": [
    "%run kitti_eval/eval_depth.py --split=eigen --kitti_dir=/work/garin0115/datasets/KITTI/ \\\n",
    "--pred_file=../results/kitti/test_kitti.npy \\\n",
    "--depth_results=../results/kitti_depths"
   ]
  },
  {
   "cell_type": "markdown",
   "metadata": {},
   "source": [
    "#### 將結果傳回本地端 "
   ]
  },
  {
   "cell_type": "markdown",
   "metadata": {},
   "source": [
    "scp -r -P 2222 garin@140.113.214.40:/home/garin/Documents/depth/results/kitti_depths/ C:/Users/Garin/Desktop/學長畢業資料/實驗程式yu/result"
   ]
  },
  {
   "cell_type": "markdown",
   "metadata": {},
   "source": [
    "## TensorBoard "
   ]
  },
  {
   "cell_type": "code",
   "execution_count": null,
   "metadata": {},
   "outputs": [],
   "source": [
    "!tensorboard --logdir=../results/KITTI_256_832_dp_b8_ShuffleNetV2_separable_share/ \\\n",
    "--samples_per_plugin images=100"
   ]
  }
 ],
 "metadata": {
  "kernelspec": {
   "display_name": "Python 3",
   "language": "python",
   "name": "python3"
  },
  "language_info": {
   "codemirror_mode": {
    "name": "ipython",
    "version": 3
   },
   "file_extension": ".py",
   "mimetype": "text/x-python",
   "name": "python",
   "nbconvert_exporter": "python",
   "pygments_lexer": "ipython3",
   "version": "3.6.8"
  }
 },
 "nbformat": 4,
 "nbformat_minor": 4
}
